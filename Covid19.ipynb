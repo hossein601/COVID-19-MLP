{
  "cells": [
    {
      "cell_type": "markdown",
      "id": "3de11907",
      "metadata": {
        "id": "3de11907"
      },
      "source": [
        "# Import Package"
      ]
    },
    {
      "cell_type": "code",
      "execution_count": 1,
      "id": "63d06a40",
      "metadata": {
        "scrolled": true,
        "id": "63d06a40"
      },
      "outputs": [],
      "source": [
        "import pandas as pd\n",
        "import numpy as np\n",
        "from datetime import datetime\n",
        "from sklearn.model_selection import train_test_split\n",
        "from sklearn.model_selection import GridSearchCV\n",
        "from sklearn.neural_network import MLPRegressor\n",
        "from sklearn import metrics\n",
        "from sklearn.metrics import r2_score\n",
        "\n",
        "# from sklearn.externals import joblib\n",
        "import joblib\n",
        "\n",
        "import pickle\n",
        "import uuid\n",
        "\n"
      ]
    },
    {
      "cell_type": "markdown",
      "source": [
        "# Data"
      ],
      "metadata": {
        "id": "ZmWLj1go5RTM"
      },
      "id": "ZmWLj1go5RTM"
    },
    {
      "cell_type": "markdown",
      "source": [
        "## Download Data"
      ],
      "metadata": {
        "id": "M0UzIYa67tMb"
      },
      "id": "M0UzIYa67tMb"
    },
    {
      "cell_type": "code",
      "source": [
        "import os.path\n",
        "if not os.path.isfile('Covid_Data.zip'):\n",
        "  !gdown --id 1oPQDuqWnH9v72qJiiyqI5LXhdV0yGaPE\n",
        "  !unzip 'Covid_Data.zip'\n"
      ],
      "metadata": {
        "id": "bettUWyQ5QRb"
      },
      "id": "bettUWyQ5QRb",
      "execution_count": 2,
      "outputs": []
    },
    {
      "cell_type": "code",
      "execution_count": 3,
      "id": "aa7b3676",
      "metadata": {
        "colab": {
          "base_uri": "https://localhost:8080/"
        },
        "id": "aa7b3676",
        "outputId": "64c6d5e2-889f-40a3-f16d-bddde794db74"
      },
      "outputs": [
        {
          "output_type": "stream",
          "name": "stdout",
          "text": [
            "<zip object at 0x7f3ff5ee23c0>\n"
          ]
        }
      ],
      "source": [
        "descriptor = (\"d\", \"r\", \"c\")\n",
        "filenames = [r'time_series_19-covid-Deaths.csv',\n",
        "             r'time_series_19-covid-Recovered.csv',\n",
        "             r'time_series_19-covid-Confirmed.csv']\n",
        "\n",
        "print(zip(descriptor, filenames))\n",
        "\n"
      ]
    },
    {
      "cell_type": "markdown",
      "source": [
        "## Load Data & Feature Enginering;dgk"
      ],
      "metadata": {
        "id": "JUltMMXz7l2b"
      },
      "id": "JUltMMXz7l2b"
    },
    {
      "cell_type": "code",
      "source": [
        "dfs = []\n",
        "DATAs = []\n",
        "for descriptor_, fname in zip(descriptor, filenames):\n",
        "    print(\"Working on:\",'Input Data/'+ fname)\n",
        "    df = pd.read_csv('Input Data/'+ fname)\n",
        "    df.drop(columns=[\"Province/State\",\"Country/Region\"], inplace=True)\n",
        "    DATA = np.array((0,0,0,0))\n",
        "\n",
        "    \n",
        "    for i, j in df.iterrows():\n",
        "        # print(i, j)\n",
        "        latitude = j['Lat']\n",
        "        longitude = j['Long']\n",
        "        \n",
        "        for k,l in j.iteritems():\n",
        "            if k=='Lat':\n",
        "                continue\n",
        "            if k=='Long':\n",
        "                continue\n",
        "            date = datetime.strptime(k, '%m/%d/%y')\n",
        "            day = date - date.strptime(\"01/22/20\", '%m/%d/%y')\n",
        "            days = day.days\n",
        "            #print(days)\n",
        "            temp = np.array([j[\"Lat\"], j['Long'], days, l])\n",
        "            #print(temp)\n",
        "            DATA = np.vstack((DATA,temp))  \n",
        "            \n",
        "    DATA = np.delete(DATA, 0,0)\n",
        "    np.random.shuffle(DATA)\n",
        "    \n",
        "    dfs.append(df)\n",
        "    DATAs.append(DATA)\n"
      ],
      "metadata": {
        "id": "MnklT68z6064",
        "outputId": "2735b7df-20d6-4f36-81b4-54ebd300e4c1",
        "colab": {
          "base_uri": "https://localhost:8080/"
        }
      },
      "id": "MnklT68z6064",
      "execution_count": 4,
      "outputs": [
        {
          "output_type": "stream",
          "name": "stdout",
          "text": [
            "Working on: Input Data/time_series_19-covid-Deaths.csv\n",
            "Working on: Input Data/time_series_19-covid-Recovered.csv\n",
            "Working on: Input Data/time_series_19-covid-Confirmed.csv\n"
          ]
        }
      ]
    },
    {
      "cell_type": "code",
      "source": [
        "dfs[0]"
      ],
      "metadata": {
        "id": "xDxAC4CS7X_U",
        "outputId": "ea77b36c-dc5c-4040-f582-6ac1a6c88b6d",
        "colab": {
          "base_uri": "https://localhost:8080/",
          "height": 487
        }
      },
      "id": "xDxAC4CS7X_U",
      "execution_count": 5,
      "outputs": [
        {
          "output_type": "execute_result",
          "data": {
            "text/plain": [
              "         Lat      Long  1/22/20  1/23/20  1/24/20  1/25/20  1/26/20  1/27/20  \\\n",
              "0    15.0000  101.0000        0        0        0        0        0        0   \n",
              "1    36.0000  138.0000        0        0        0        0        0        0   \n",
              "2     1.2833  103.8333        0        0        0        0        0        0   \n",
              "3    28.1667   84.2500        0        0        0        0        0        0   \n",
              "4     2.5000  112.5000        0        0        0        0        0        0   \n",
              "..       ...       ...      ...      ...      ...      ...      ...      ...   \n",
              "401  42.5922  -83.3362        0        0        0        0        0        0   \n",
              "402  42.2791  -83.3362        0        0        0        0        0        0   \n",
              "403  39.5393  -75.6674        0        0        0        0        0        0   \n",
              "404  22.0000  -80.0000        0        0        0        0        0        0   \n",
              "405   5.0000  -58.7500        0        0        0        0        0        0   \n",
              "\n",
              "     1/28/20  1/29/20  ...  3/3/20  3/4/20  3/5/20  3/6/20  3/7/20  3/8/20  \\\n",
              "0          0        0  ...       1       1       1       1       1       1   \n",
              "1          0        0  ...       6       6       6       6       6       6   \n",
              "2          0        0  ...       0       0       0       0       0       0   \n",
              "3          0        0  ...       0       0       0       0       0       0   \n",
              "4          0        0  ...       0       0       0       0       0       0   \n",
              "..       ...      ...  ...     ...     ...     ...     ...     ...     ...   \n",
              "401        0        0  ...       0       0       0       0       0       0   \n",
              "402        0        0  ...       0       0       0       0       0       0   \n",
              "403        0        0  ...       0       0       0       0       0       0   \n",
              "404        0        0  ...       0       0       0       0       0       0   \n",
              "405        0        0  ...       0       0       0       0       0       0   \n",
              "\n",
              "     3/9/20  3/10/20  3/11/20  3/12/20  \n",
              "0         1        1        1        1  \n",
              "1        10       10       15       16  \n",
              "2         0        0        0        0  \n",
              "3         0        0        0        0  \n",
              "4         0        0        0        0  \n",
              "..      ...      ...      ...      ...  \n",
              "401       0        0        0        0  \n",
              "402       0        0        0        0  \n",
              "403       0        0        0        0  \n",
              "404       0        0        0        0  \n",
              "405       0        0        0        1  \n",
              "\n",
              "[406 rows x 53 columns]"
            ],
            "text/html": [
              "\n",
              "  <div id=\"df-00154fcc-582a-40f0-8ecd-1055c0c3396f\">\n",
              "    <div class=\"colab-df-container\">\n",
              "      <div>\n",
              "<style scoped>\n",
              "    .dataframe tbody tr th:only-of-type {\n",
              "        vertical-align: middle;\n",
              "    }\n",
              "\n",
              "    .dataframe tbody tr th {\n",
              "        vertical-align: top;\n",
              "    }\n",
              "\n",
              "    .dataframe thead th {\n",
              "        text-align: right;\n",
              "    }\n",
              "</style>\n",
              "<table border=\"1\" class=\"dataframe\">\n",
              "  <thead>\n",
              "    <tr style=\"text-align: right;\">\n",
              "      <th></th>\n",
              "      <th>Lat</th>\n",
              "      <th>Long</th>\n",
              "      <th>1/22/20</th>\n",
              "      <th>1/23/20</th>\n",
              "      <th>1/24/20</th>\n",
              "      <th>1/25/20</th>\n",
              "      <th>1/26/20</th>\n",
              "      <th>1/27/20</th>\n",
              "      <th>1/28/20</th>\n",
              "      <th>1/29/20</th>\n",
              "      <th>...</th>\n",
              "      <th>3/3/20</th>\n",
              "      <th>3/4/20</th>\n",
              "      <th>3/5/20</th>\n",
              "      <th>3/6/20</th>\n",
              "      <th>3/7/20</th>\n",
              "      <th>3/8/20</th>\n",
              "      <th>3/9/20</th>\n",
              "      <th>3/10/20</th>\n",
              "      <th>3/11/20</th>\n",
              "      <th>3/12/20</th>\n",
              "    </tr>\n",
              "  </thead>\n",
              "  <tbody>\n",
              "    <tr>\n",
              "      <th>0</th>\n",
              "      <td>15.0000</td>\n",
              "      <td>101.0000</td>\n",
              "      <td>0</td>\n",
              "      <td>0</td>\n",
              "      <td>0</td>\n",
              "      <td>0</td>\n",
              "      <td>0</td>\n",
              "      <td>0</td>\n",
              "      <td>0</td>\n",
              "      <td>0</td>\n",
              "      <td>...</td>\n",
              "      <td>1</td>\n",
              "      <td>1</td>\n",
              "      <td>1</td>\n",
              "      <td>1</td>\n",
              "      <td>1</td>\n",
              "      <td>1</td>\n",
              "      <td>1</td>\n",
              "      <td>1</td>\n",
              "      <td>1</td>\n",
              "      <td>1</td>\n",
              "    </tr>\n",
              "    <tr>\n",
              "      <th>1</th>\n",
              "      <td>36.0000</td>\n",
              "      <td>138.0000</td>\n",
              "      <td>0</td>\n",
              "      <td>0</td>\n",
              "      <td>0</td>\n",
              "      <td>0</td>\n",
              "      <td>0</td>\n",
              "      <td>0</td>\n",
              "      <td>0</td>\n",
              "      <td>0</td>\n",
              "      <td>...</td>\n",
              "      <td>6</td>\n",
              "      <td>6</td>\n",
              "      <td>6</td>\n",
              "      <td>6</td>\n",
              "      <td>6</td>\n",
              "      <td>6</td>\n",
              "      <td>10</td>\n",
              "      <td>10</td>\n",
              "      <td>15</td>\n",
              "      <td>16</td>\n",
              "    </tr>\n",
              "    <tr>\n",
              "      <th>2</th>\n",
              "      <td>1.2833</td>\n",
              "      <td>103.8333</td>\n",
              "      <td>0</td>\n",
              "      <td>0</td>\n",
              "      <td>0</td>\n",
              "      <td>0</td>\n",
              "      <td>0</td>\n",
              "      <td>0</td>\n",
              "      <td>0</td>\n",
              "      <td>0</td>\n",
              "      <td>...</td>\n",
              "      <td>0</td>\n",
              "      <td>0</td>\n",
              "      <td>0</td>\n",
              "      <td>0</td>\n",
              "      <td>0</td>\n",
              "      <td>0</td>\n",
              "      <td>0</td>\n",
              "      <td>0</td>\n",
              "      <td>0</td>\n",
              "      <td>0</td>\n",
              "    </tr>\n",
              "    <tr>\n",
              "      <th>3</th>\n",
              "      <td>28.1667</td>\n",
              "      <td>84.2500</td>\n",
              "      <td>0</td>\n",
              "      <td>0</td>\n",
              "      <td>0</td>\n",
              "      <td>0</td>\n",
              "      <td>0</td>\n",
              "      <td>0</td>\n",
              "      <td>0</td>\n",
              "      <td>0</td>\n",
              "      <td>...</td>\n",
              "      <td>0</td>\n",
              "      <td>0</td>\n",
              "      <td>0</td>\n",
              "      <td>0</td>\n",
              "      <td>0</td>\n",
              "      <td>0</td>\n",
              "      <td>0</td>\n",
              "      <td>0</td>\n",
              "      <td>0</td>\n",
              "      <td>0</td>\n",
              "    </tr>\n",
              "    <tr>\n",
              "      <th>4</th>\n",
              "      <td>2.5000</td>\n",
              "      <td>112.5000</td>\n",
              "      <td>0</td>\n",
              "      <td>0</td>\n",
              "      <td>0</td>\n",
              "      <td>0</td>\n",
              "      <td>0</td>\n",
              "      <td>0</td>\n",
              "      <td>0</td>\n",
              "      <td>0</td>\n",
              "      <td>...</td>\n",
              "      <td>0</td>\n",
              "      <td>0</td>\n",
              "      <td>0</td>\n",
              "      <td>0</td>\n",
              "      <td>0</td>\n",
              "      <td>0</td>\n",
              "      <td>0</td>\n",
              "      <td>0</td>\n",
              "      <td>0</td>\n",
              "      <td>0</td>\n",
              "    </tr>\n",
              "    <tr>\n",
              "      <th>...</th>\n",
              "      <td>...</td>\n",
              "      <td>...</td>\n",
              "      <td>...</td>\n",
              "      <td>...</td>\n",
              "      <td>...</td>\n",
              "      <td>...</td>\n",
              "      <td>...</td>\n",
              "      <td>...</td>\n",
              "      <td>...</td>\n",
              "      <td>...</td>\n",
              "      <td>...</td>\n",
              "      <td>...</td>\n",
              "      <td>...</td>\n",
              "      <td>...</td>\n",
              "      <td>...</td>\n",
              "      <td>...</td>\n",
              "      <td>...</td>\n",
              "      <td>...</td>\n",
              "      <td>...</td>\n",
              "      <td>...</td>\n",
              "      <td>...</td>\n",
              "    </tr>\n",
              "    <tr>\n",
              "      <th>401</th>\n",
              "      <td>42.5922</td>\n",
              "      <td>-83.3362</td>\n",
              "      <td>0</td>\n",
              "      <td>0</td>\n",
              "      <td>0</td>\n",
              "      <td>0</td>\n",
              "      <td>0</td>\n",
              "      <td>0</td>\n",
              "      <td>0</td>\n",
              "      <td>0</td>\n",
              "      <td>...</td>\n",
              "      <td>0</td>\n",
              "      <td>0</td>\n",
              "      <td>0</td>\n",
              "      <td>0</td>\n",
              "      <td>0</td>\n",
              "      <td>0</td>\n",
              "      <td>0</td>\n",
              "      <td>0</td>\n",
              "      <td>0</td>\n",
              "      <td>0</td>\n",
              "    </tr>\n",
              "    <tr>\n",
              "      <th>402</th>\n",
              "      <td>42.2791</td>\n",
              "      <td>-83.3362</td>\n",
              "      <td>0</td>\n",
              "      <td>0</td>\n",
              "      <td>0</td>\n",
              "      <td>0</td>\n",
              "      <td>0</td>\n",
              "      <td>0</td>\n",
              "      <td>0</td>\n",
              "      <td>0</td>\n",
              "      <td>...</td>\n",
              "      <td>0</td>\n",
              "      <td>0</td>\n",
              "      <td>0</td>\n",
              "      <td>0</td>\n",
              "      <td>0</td>\n",
              "      <td>0</td>\n",
              "      <td>0</td>\n",
              "      <td>0</td>\n",
              "      <td>0</td>\n",
              "      <td>0</td>\n",
              "    </tr>\n",
              "    <tr>\n",
              "      <th>403</th>\n",
              "      <td>39.5393</td>\n",
              "      <td>-75.6674</td>\n",
              "      <td>0</td>\n",
              "      <td>0</td>\n",
              "      <td>0</td>\n",
              "      <td>0</td>\n",
              "      <td>0</td>\n",
              "      <td>0</td>\n",
              "      <td>0</td>\n",
              "      <td>0</td>\n",
              "      <td>...</td>\n",
              "      <td>0</td>\n",
              "      <td>0</td>\n",
              "      <td>0</td>\n",
              "      <td>0</td>\n",
              "      <td>0</td>\n",
              "      <td>0</td>\n",
              "      <td>0</td>\n",
              "      <td>0</td>\n",
              "      <td>0</td>\n",
              "      <td>0</td>\n",
              "    </tr>\n",
              "    <tr>\n",
              "      <th>404</th>\n",
              "      <td>22.0000</td>\n",
              "      <td>-80.0000</td>\n",
              "      <td>0</td>\n",
              "      <td>0</td>\n",
              "      <td>0</td>\n",
              "      <td>0</td>\n",
              "      <td>0</td>\n",
              "      <td>0</td>\n",
              "      <td>0</td>\n",
              "      <td>0</td>\n",
              "      <td>...</td>\n",
              "      <td>0</td>\n",
              "      <td>0</td>\n",
              "      <td>0</td>\n",
              "      <td>0</td>\n",
              "      <td>0</td>\n",
              "      <td>0</td>\n",
              "      <td>0</td>\n",
              "      <td>0</td>\n",
              "      <td>0</td>\n",
              "      <td>0</td>\n",
              "    </tr>\n",
              "    <tr>\n",
              "      <th>405</th>\n",
              "      <td>5.0000</td>\n",
              "      <td>-58.7500</td>\n",
              "      <td>0</td>\n",
              "      <td>0</td>\n",
              "      <td>0</td>\n",
              "      <td>0</td>\n",
              "      <td>0</td>\n",
              "      <td>0</td>\n",
              "      <td>0</td>\n",
              "      <td>0</td>\n",
              "      <td>...</td>\n",
              "      <td>0</td>\n",
              "      <td>0</td>\n",
              "      <td>0</td>\n",
              "      <td>0</td>\n",
              "      <td>0</td>\n",
              "      <td>0</td>\n",
              "      <td>0</td>\n",
              "      <td>0</td>\n",
              "      <td>0</td>\n",
              "      <td>1</td>\n",
              "    </tr>\n",
              "  </tbody>\n",
              "</table>\n",
              "<p>406 rows × 53 columns</p>\n",
              "</div>\n",
              "      <button class=\"colab-df-convert\" onclick=\"convertToInteractive('df-00154fcc-582a-40f0-8ecd-1055c0c3396f')\"\n",
              "              title=\"Convert this dataframe to an interactive table.\"\n",
              "              style=\"display:none;\">\n",
              "        \n",
              "  <svg xmlns=\"http://www.w3.org/2000/svg\" height=\"24px\"viewBox=\"0 0 24 24\"\n",
              "       width=\"24px\">\n",
              "    <path d=\"M0 0h24v24H0V0z\" fill=\"none\"/>\n",
              "    <path d=\"M18.56 5.44l.94 2.06.94-2.06 2.06-.94-2.06-.94-.94-2.06-.94 2.06-2.06.94zm-11 1L8.5 8.5l.94-2.06 2.06-.94-2.06-.94L8.5 2.5l-.94 2.06-2.06.94zm10 10l.94 2.06.94-2.06 2.06-.94-2.06-.94-.94-2.06-.94 2.06-2.06.94z\"/><path d=\"M17.41 7.96l-1.37-1.37c-.4-.4-.92-.59-1.43-.59-.52 0-1.04.2-1.43.59L10.3 9.45l-7.72 7.72c-.78.78-.78 2.05 0 2.83L4 21.41c.39.39.9.59 1.41.59.51 0 1.02-.2 1.41-.59l7.78-7.78 2.81-2.81c.8-.78.8-2.07 0-2.86zM5.41 20L4 18.59l7.72-7.72 1.47 1.35L5.41 20z\"/>\n",
              "  </svg>\n",
              "      </button>\n",
              "      \n",
              "  <style>\n",
              "    .colab-df-container {\n",
              "      display:flex;\n",
              "      flex-wrap:wrap;\n",
              "      gap: 12px;\n",
              "    }\n",
              "\n",
              "    .colab-df-convert {\n",
              "      background-color: #E8F0FE;\n",
              "      border: none;\n",
              "      border-radius: 50%;\n",
              "      cursor: pointer;\n",
              "      display: none;\n",
              "      fill: #1967D2;\n",
              "      height: 32px;\n",
              "      padding: 0 0 0 0;\n",
              "      width: 32px;\n",
              "    }\n",
              "\n",
              "    .colab-df-convert:hover {\n",
              "      background-color: #E2EBFA;\n",
              "      box-shadow: 0px 1px 2px rgba(60, 64, 67, 0.3), 0px 1px 3px 1px rgba(60, 64, 67, 0.15);\n",
              "      fill: #174EA6;\n",
              "    }\n",
              "\n",
              "    [theme=dark] .colab-df-convert {\n",
              "      background-color: #3B4455;\n",
              "      fill: #D2E3FC;\n",
              "    }\n",
              "\n",
              "    [theme=dark] .colab-df-convert:hover {\n",
              "      background-color: #434B5C;\n",
              "      box-shadow: 0px 1px 3px 1px rgba(0, 0, 0, 0.15);\n",
              "      filter: drop-shadow(0px 1px 2px rgba(0, 0, 0, 0.3));\n",
              "      fill: #FFFFFF;\n",
              "    }\n",
              "  </style>\n",
              "\n",
              "      <script>\n",
              "        const buttonEl =\n",
              "          document.querySelector('#df-00154fcc-582a-40f0-8ecd-1055c0c3396f button.colab-df-convert');\n",
              "        buttonEl.style.display =\n",
              "          google.colab.kernel.accessAllowed ? 'block' : 'none';\n",
              "\n",
              "        async function convertToInteractive(key) {\n",
              "          const element = document.querySelector('#df-00154fcc-582a-40f0-8ecd-1055c0c3396f');\n",
              "          const dataTable =\n",
              "            await google.colab.kernel.invokeFunction('convertToInteractive',\n",
              "                                                     [key], {});\n",
              "          if (!dataTable) return;\n",
              "\n",
              "          const docLinkHtml = 'Like what you see? Visit the ' +\n",
              "            '<a target=\"_blank\" href=https://colab.research.google.com/notebooks/data_table.ipynb>data table notebook</a>'\n",
              "            + ' to learn more about interactive tables.';\n",
              "          element.innerHTML = '';\n",
              "          dataTable['output_type'] = 'display_data';\n",
              "          await google.colab.output.renderOutput(dataTable, element);\n",
              "          const docLink = document.createElement('div');\n",
              "          docLink.innerHTML = docLinkHtml;\n",
              "          element.appendChild(docLink);\n",
              "        }\n",
              "      </script>\n",
              "    </div>\n",
              "  </div>\n",
              "  "
            ]
          },
          "metadata": {},
          "execution_count": 5
        }
      ]
    },
    {
      "cell_type": "code",
      "source": [
        "DATAs"
      ],
      "metadata": {
        "id": "w-J_Nh009HJ2",
        "outputId": "5293d857-e105-46f1-a3c5-4a292c87b183",
        "colab": {
          "base_uri": "https://localhost:8080/"
        }
      },
      "id": "w-J_Nh009HJ2",
      "execution_count": 6,
      "outputs": [
        {
          "output_type": "execute_result",
          "data": {
            "text/plain": [
              "[array([[ 40.5726, -74.4927,  39.    ,   0.    ],\n",
              "        [  8.6195,   0.8248,  50.    ,   0.    ],\n",
              "        [ 64.9631, -19.0208,  27.    ,   0.    ],\n",
              "        ...,\n",
              "        [ 30.5927, -81.8224,  46.    ,   0.    ],\n",
              "        [ 42.5063,   1.5218,  19.    ,   0.    ],\n",
              "        [ 42.632 , -70.7829,  32.    ,   0.    ]]),\n",
              " array([[  22.1667,  113.55  ,   27.    ,    5.    ],\n",
              "        [  47.175 , -120.9319,   27.    ,    0.    ],\n",
              "        [  40.4483,  -86.1345,    6.    ,    0.    ],\n",
              "        ...,\n",
              "        [  42.632 ,  -70.7829,   40.    ,    0.    ],\n",
              "        [  38.7646, -121.9018,   35.    ,    0.    ],\n",
              "        [  38.7849,  -76.8721,   50.    ,    0.    ]]),\n",
              " array([[  44.2998,  -99.4388,    1.    ,    0.    ],\n",
              "        [  35.4437,  139.638 ,   21.    ,    0.    ],\n",
              "        [  37.6681,  -84.6701,   30.    ,    0.    ],\n",
              "        ...,\n",
              "        [  39.3054,  117.323 ,   33.    ,  135.    ],\n",
              "        [  37.0454, -121.958 ,   47.    ,    0.    ],\n",
              "        [  38.9072,  -77.0369,   26.    ,    0.    ]])]"
            ]
          },
          "metadata": {},
          "execution_count": 6
        }
      ]
    },
    {
      "cell_type": "code",
      "source": [
        "DATAs[0]"
      ],
      "metadata": {
        "id": "1pQx8Evx8t5Z",
        "outputId": "5df0b2b3-cc27-4294-9525-11a78a8298d2",
        "colab": {
          "base_uri": "https://localhost:8080/"
        }
      },
      "id": "1pQx8Evx8t5Z",
      "execution_count": 7,
      "outputs": [
        {
          "output_type": "execute_result",
          "data": {
            "text/plain": [
              "array([[ 40.5726, -74.4927,  39.    ,   0.    ],\n",
              "       [  8.6195,   0.8248,  50.    ,   0.    ],\n",
              "       [ 64.9631, -19.0208,  27.    ,   0.    ],\n",
              "       ...,\n",
              "       [ 30.5927, -81.8224,  46.    ,   0.    ],\n",
              "       [ 42.5063,   1.5218,  19.    ,   0.    ],\n",
              "       [ 42.632 , -70.7829,  32.    ,   0.    ]])"
            ]
          },
          "metadata": {},
          "execution_count": 7
        }
      ]
    },
    {
      "cell_type": "markdown",
      "source": [
        "# Models"
      ],
      "metadata": {
        "id": "P-BCOaaA7Uy2"
      },
      "id": "P-BCOaaA7Uy2"
    },
    {
      "cell_type": "markdown",
      "source": [
        "## Confirmed"
      ],
      "metadata": {
        "id": "G8qlSCp5aOen"
      },
      "id": "G8qlSCp5aOen"
    },
    {
      "cell_type": "code",
      "source": [
        "DATA = DATAs[2]\n",
        "input_data = DATA[:,:-1]\n",
        "print(input_data.shape)\n",
        "output_data = DATA[:, -1]\n",
        "print(output_data.shape)\n",
        "input_train, input_test, output_train, output_test = train_test_split(input_data, output_data)"
      ],
      "metadata": {
        "id": "cUzIO8NTac-t",
        "colab": {
          "base_uri": "https://localhost:8080/"
        },
        "outputId": "236ed0c6-cfa9-42d2-fe05-653fc61d9439"
      },
      "execution_count": 8,
      "outputs": [
        {
          "output_type": "stream",
          "name": "stdout",
          "text": [
            "(20706, 3)\n",
            "(20706,)\n"
          ]
        }
      ],
      "id": "cUzIO8NTac-t"
    },
    {
      "cell_type": "code",
      "source": [
        "clf = MLPRegressor(hidden_layer_sizes = (4,4,4,4),\n",
        "                   activation='relu',\n",
        "                   solver='lbfgs',\n",
        "                   learning_rate='constant',\n",
        "                   learning_rate_init=0.1,\n",
        "                   alpha=0.0001,\n",
        "                   max_iter=10000000)\n",
        "clf.fit(input_train, output_train)"
      ],
      "metadata": {
        "id": "PNXyk6lPa10v",
        "colab": {
          "base_uri": "https://localhost:8080/"
        },
        "outputId": "77eebb0d-b58b-441d-a9e5-e5ed743dd3a3"
      },
      "execution_count": 9,
      "outputs": [
        {
          "output_type": "execute_result",
          "data": {
            "text/plain": [
              "MLPRegressor(hidden_layer_sizes=(4, 4, 4, 4), learning_rate_init=0.1,\n",
              "             max_iter=10000000, solver='lbfgs')"
            ]
          },
          "metadata": {},
          "execution_count": 9
        }
      ],
      "id": "PNXyk6lPa10v"
    },
    {
      "cell_type": "code",
      "source": [
        "clf.score(input_train, output_train)\n"
      ],
      "metadata": {
        "id": "m4RdBN-Nqkh8",
        "outputId": "0542aec9-c7c8-4a8c-ff7a-e8947d95795e",
        "colab": {
          "base_uri": "https://localhost:8080/"
        }
      },
      "id": "m4RdBN-Nqkh8",
      "execution_count": 10,
      "outputs": [
        {
          "output_type": "execute_result",
          "data": {
            "text/plain": [
              "0.9690185166634807"
            ]
          },
          "metadata": {},
          "execution_count": 10
        }
      ]
    },
    {
      "cell_type": "code",
      "source": [
        "clf.score(input_test, output_test)"
      ],
      "metadata": {
        "colab": {
          "base_uri": "https://localhost:8080/"
        },
        "id": "hVHthQeYb8x_",
        "outputId": "ea702965-78d3-4567-a808-ed9e9893bea5"
      },
      "id": "hVHthQeYb8x_",
      "execution_count": 11,
      "outputs": [
        {
          "output_type": "execute_result",
          "data": {
            "text/plain": [
              "0.9236193967959558"
            ]
          },
          "metadata": {},
          "execution_count": 11
        }
      ]
    },
    {
      "cell_type": "markdown",
      "source": [
        "## Recovered"
      ],
      "metadata": {
        "id": "6MVpQAjaaUUH"
      },
      "id": "6MVpQAjaaUUH"
    },
    {
      "cell_type": "code",
      "source": [
        "DATA = DATAs[1]\n",
        "input_data = DATA[:,:-1]\n",
        "print(input_data.shape)\n",
        "output_data = DATA[:, -1]\n",
        "print(output_data.shape)\n",
        "input_train, input_test, output_train, output_test = train_test_split(input_data, output_data)"
      ],
      "metadata": {
        "outputId": "7ce2eaed-1e91-4548-ff26-43de1698ae34",
        "colab": {
          "base_uri": "https://localhost:8080/"
        },
        "id": "LCd0cvKGnMMv"
      },
      "execution_count": 12,
      "outputs": [
        {
          "output_type": "stream",
          "name": "stdout",
          "text": [
            "(20706, 3)\n",
            "(20706,)\n"
          ]
        }
      ],
      "id": "LCd0cvKGnMMv"
    },
    {
      "cell_type": "code",
      "source": [
        "clf = MLPRegressor(hidden_layer_sizes = (4,4,4,4),\n",
        "                   activation='relu',\n",
        "                   solver='lbfgs',\n",
        "                   learning_rate='constant',\n",
        "                   learning_rate_init=0.5,\n",
        "                   alpha=0.001,\n",
        "                   max_iter=1000000000)\n",
        "clf.fit(input_train, output_train)"
      ],
      "metadata": {
        "id": "WQbYD0rynMMw",
        "outputId": "65a84a73-2bbf-4ccb-dd60-4ba6efcba095",
        "colab": {
          "base_uri": "https://localhost:8080/"
        }
      },
      "execution_count": 13,
      "outputs": [
        {
          "output_type": "execute_result",
          "data": {
            "text/plain": [
              "MLPRegressor(alpha=0.001, hidden_layer_sizes=(4, 4, 4, 4),\n",
              "             learning_rate_init=0.5, max_iter=1000000000, solver='lbfgs')"
            ]
          },
          "metadata": {},
          "execution_count": 13
        }
      ],
      "id": "WQbYD0rynMMw"
    },
    {
      "cell_type": "code",
      "source": [
        "clf.score(input_test, output_test)"
      ],
      "metadata": {
        "outputId": "2bdd2191-d55e-4120-af6c-1f8253365c3c",
        "colab": {
          "base_uri": "https://localhost:8080/"
        },
        "id": "mgXtoFm0nMMx"
      },
      "execution_count": 14,
      "outputs": [
        {
          "output_type": "execute_result",
          "data": {
            "text/plain": [
              "0.052095222238248806"
            ]
          },
          "metadata": {},
          "execution_count": 14
        }
      ],
      "id": "mgXtoFm0nMMx"
    },
    {
      "cell_type": "markdown",
      "source": [
        "\n",
        "## Dead"
      ],
      "metadata": {
        "id": "Wkz9cGRmaPqA"
      },
      "id": "Wkz9cGRmaPqA"
    },
    {
      "cell_type": "code",
      "source": [
        "DATA = DATAs[0]\n",
        "input_data = DATA[:,:-1]\n",
        "print(input_data.shape)\n",
        "output_data = DATA[:, -1]\n",
        "print(output_data.shape)\n",
        "input_train, input_test, output_train, output_test = train_test_split(input_data, output_data)"
      ],
      "metadata": {
        "outputId": "5fd28172-ed02-4e13-fb36-892e3587c0d3",
        "colab": {
          "base_uri": "https://localhost:8080/"
        },
        "id": "kdLpWKY8nILv"
      },
      "execution_count": 15,
      "outputs": [
        {
          "output_type": "stream",
          "name": "stdout",
          "text": [
            "(20706, 3)\n",
            "(20706,)\n"
          ]
        }
      ],
      "id": "kdLpWKY8nILv"
    },
    {
      "cell_type": "code",
      "source": [
        "clf = MLPRegressor(hidden_layer_sizes = (4,4,4,4),\n",
        "                   activation='relu',\n",
        "                   solver='lbfgs',\n",
        "                   learning_rate='adaptive',\n",
        "                   learning_rate_init=0.01,\n",
        "                   alpha=0.01,\n",
        "                   max_iter=1000000000)\n",
        "clf.fit(input_train, output_train)"
      ],
      "metadata": {
        "id": "ER9lfyTgnILx",
        "outputId": "66956ccc-7786-43ec-f846-e7b7d838a380",
        "colab": {
          "base_uri": "https://localhost:8080/"
        }
      },
      "execution_count": 16,
      "outputs": [
        {
          "output_type": "execute_result",
          "data": {
            "text/plain": [
              "MLPRegressor(alpha=0.01, hidden_layer_sizes=(4, 4, 4, 4),\n",
              "             learning_rate='adaptive', learning_rate_init=0.01,\n",
              "             max_iter=1000000000, solver='lbfgs')"
            ]
          },
          "metadata": {},
          "execution_count": 16
        }
      ],
      "id": "ER9lfyTgnILx"
    },
    {
      "cell_type": "code",
      "source": [
        "clf.score(input_test, output_test)"
      ],
      "metadata": {
        "outputId": "3df7c41e-f9e8-479d-a428-7db50b01a7f5",
        "colab": {
          "base_uri": "https://localhost:8080/"
        },
        "id": "neMvuaOKnILx"
      },
      "execution_count": 17,
      "outputs": [
        {
          "output_type": "execute_result",
          "data": {
            "text/plain": [
              "-0.049701352027102574"
            ]
          },
          "metadata": {},
          "execution_count": 17
        }
      ],
      "id": "neMvuaOKnILx"
    },
    {
      "cell_type": "code",
      "source": [],
      "metadata": {
        "id": "8gwv9C_MrDIg"
      },
      "id": "8gwv9C_MrDIg",
      "execution_count": 17,
      "outputs": []
    }
  ],
  "metadata": {
    "kernelspec": {
      "display_name": "Python 3 (ipykernel)",
      "language": "python",
      "name": "python3"
    },
    "language_info": {
      "codemirror_mode": {
        "name": "ipython",
        "version": 3
      },
      "file_extension": ".py",
      "mimetype": "text/x-python",
      "name": "python",
      "nbconvert_exporter": "python",
      "pygments_lexer": "ipython3",
      "version": "3.9.12"
    },
    "colab": {
      "provenance": [],
      "toc_visible": true
    }
  },
  "nbformat": 4,
  "nbformat_minor": 5
}