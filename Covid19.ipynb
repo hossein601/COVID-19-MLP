{
  "cells": [
    {
      "cell_type": "markdown",
      "id": "3de11907",
      "metadata": {
        "id": "3de11907"
      },
      "source": [
        "# Import Package"
      ]
    },
    {
      "cell_type": "code",
      "execution_count": 69,
      "id": "63d06a40",
      "metadata": {
        "scrolled": true,
        "id": "63d06a40"
      },
      "outputs": [],
      "source": [
        "import pandas as pd\n",
        "import numpy as np\n",
        "from datetime import datetime\n",
        "from sklearn.model_selection import train_test_split\n",
        "from sklearn.model_selection import GridSearchCV\n",
        "from sklearn.neural_network import MLPRegressor\n",
        "from sklearn import metrics\n",
        "from sklearn.metrics import r2_score\n",
        "\n",
        "# from sklearn.externals import joblib\n",
        "import joblib\n",
        "\n",
        "import pickle\n",
        "import uuid\n",
        "\n"
      ]
    },
    {
      "cell_type": "code",
      "source": [
        "# Importing necessary libraries\n",
        "from keras.models import Sequential\n",
        "from keras.layers import Dense\n",
        "from keras import callbacks\n",
        "import tensorflow as tf\n"
      ],
      "metadata": {
        "id": "hBRI5ZzEnGju"
      },
      "id": "hBRI5ZzEnGju",
      "execution_count": 70,
      "outputs": []
    },
    {
      "cell_type": "markdown",
      "source": [
        "# Data"
      ],
      "metadata": {
        "id": "ZmWLj1go5RTM"
      },
      "id": "ZmWLj1go5RTM"
    },
    {
      "cell_type": "markdown",
      "source": [
        "## Download Data"
      ],
      "metadata": {
        "id": "M0UzIYa67tMb"
      },
      "id": "M0UzIYa67tMb"
    },
    {
      "cell_type": "code",
      "source": [
        "import os.path\n",
        "if not os.path.isfile('Covid_Data.zip'):\n",
        "  !gdown --id 1oPQDuqWnH9v72qJiiyqI5LXhdV0yGaPE\n",
        "  !unzip 'Covid_Data.zip'\n"
      ],
      "metadata": {
        "id": "bettUWyQ5QRb"
      },
      "id": "bettUWyQ5QRb",
      "execution_count": 71,
      "outputs": []
    },
    {
      "cell_type": "code",
      "execution_count": 72,
      "id": "aa7b3676",
      "metadata": {
        "colab": {
          "base_uri": "https://localhost:8080/"
        },
        "id": "aa7b3676",
        "outputId": "979b467d-2bf7-4e69-8eff-4735bf965f4e"
      },
      "outputs": [
        {
          "output_type": "stream",
          "name": "stdout",
          "text": [
            "<zip object at 0x7fbc83130bc0>\n"
          ]
        }
      ],
      "source": [
        "descriptor = (\"d\", \"r\", \"c\")\n",
        "filenames = [r'time_series_19-covid-Deaths.csv',\n",
        "             r'time_series_19-covid-Recovered.csv',\n",
        "             r'time_series_19-covid-Confirmed.csv']\n",
        "\n",
        "print(zip(descriptor, filenames))\n",
        "\n"
      ]
    },
    {
      "cell_type": "markdown",
      "source": [
        "## Load Data & Feature Enginering;dgk"
      ],
      "metadata": {
        "id": "JUltMMXz7l2b"
      },
      "id": "JUltMMXz7l2b"
    },
    {
      "cell_type": "code",
      "source": [
        "dfs = []\n",
        "DATAs = []\n",
        "for descriptor_, fname in zip(descriptor, filenames):\n",
        "    print(\"Working on:\",'Input Data/'+ fname)\n",
        "    df = pd.read_csv('Input Data/'+ fname)\n",
        "    df.drop(columns=[\"Province/State\",\"Country/Region\"], inplace=True)\n",
        "    DATA = np.array((0,0,0,0))\n",
        "\n",
        "    \n",
        "    for i, j in df.iterrows():\n",
        "        # print(i, j)\n",
        "        latitude = j['Lat']\n",
        "        longitude = j['Long']\n",
        "        \n",
        "        for k,l in j.iteritems():\n",
        "            if k=='Lat':\n",
        "                continue\n",
        "            if k=='Long':\n",
        "                continue\n",
        "            date = datetime.strptime(k, '%m/%d/%y')\n",
        "            day = date - date.strptime(\"01/22/20\", '%m/%d/%y')\n",
        "            days = day.days\n",
        "            #print(days)\n",
        "            temp = np.array([j[\"Lat\"], j['Long'], days, l])\n",
        "            #print(temp)\n",
        "            DATA = np.vstack((DATA,temp))  \n",
        "            \n",
        "    DATA = np.delete(DATA, 0,0)\n",
        "    np.random.shuffle(DATA)\n",
        "    \n",
        "    dfs.append(df)\n",
        "    DATAs.append(DATA)\n"
      ],
      "metadata": {
        "id": "MnklT68z6064",
        "outputId": "a47fdc02-de61-4da2-c63b-ea95648b1e04",
        "colab": {
          "base_uri": "https://localhost:8080/"
        }
      },
      "id": "MnklT68z6064",
      "execution_count": 73,
      "outputs": [
        {
          "output_type": "stream",
          "name": "stdout",
          "text": [
            "Working on: Input Data/time_series_19-covid-Deaths.csv\n",
            "Working on: Input Data/time_series_19-covid-Recovered.csv\n",
            "Working on: Input Data/time_series_19-covid-Confirmed.csv\n"
          ]
        }
      ]
    },
    {
      "cell_type": "code",
      "source": [
        "dfs[0]"
      ],
      "metadata": {
        "id": "xDxAC4CS7X_U",
        "outputId": "12ac8283-bca8-4bd3-cf72-d323ef8be69d",
        "colab": {
          "base_uri": "https://localhost:8080/",
          "height": 487
        }
      },
      "id": "xDxAC4CS7X_U",
      "execution_count": 74,
      "outputs": [
        {
          "output_type": "execute_result",
          "data": {
            "text/plain": [
              "         Lat      Long  1/22/20  1/23/20  1/24/20  1/25/20  1/26/20  1/27/20  \\\n",
              "0    15.0000  101.0000        0        0        0        0        0        0   \n",
              "1    36.0000  138.0000        0        0        0        0        0        0   \n",
              "2     1.2833  103.8333        0        0        0        0        0        0   \n",
              "3    28.1667   84.2500        0        0        0        0        0        0   \n",
              "4     2.5000  112.5000        0        0        0        0        0        0   \n",
              "..       ...       ...      ...      ...      ...      ...      ...      ...   \n",
              "401  42.5922  -83.3362        0        0        0        0        0        0   \n",
              "402  42.2791  -83.3362        0        0        0        0        0        0   \n",
              "403  39.5393  -75.6674        0        0        0        0        0        0   \n",
              "404  22.0000  -80.0000        0        0        0        0        0        0   \n",
              "405   5.0000  -58.7500        0        0        0        0        0        0   \n",
              "\n",
              "     1/28/20  1/29/20  ...  3/3/20  3/4/20  3/5/20  3/6/20  3/7/20  3/8/20  \\\n",
              "0          0        0  ...       1       1       1       1       1       1   \n",
              "1          0        0  ...       6       6       6       6       6       6   \n",
              "2          0        0  ...       0       0       0       0       0       0   \n",
              "3          0        0  ...       0       0       0       0       0       0   \n",
              "4          0        0  ...       0       0       0       0       0       0   \n",
              "..       ...      ...  ...     ...     ...     ...     ...     ...     ...   \n",
              "401        0        0  ...       0       0       0       0       0       0   \n",
              "402        0        0  ...       0       0       0       0       0       0   \n",
              "403        0        0  ...       0       0       0       0       0       0   \n",
              "404        0        0  ...       0       0       0       0       0       0   \n",
              "405        0        0  ...       0       0       0       0       0       0   \n",
              "\n",
              "     3/9/20  3/10/20  3/11/20  3/12/20  \n",
              "0         1        1        1        1  \n",
              "1        10       10       15       16  \n",
              "2         0        0        0        0  \n",
              "3         0        0        0        0  \n",
              "4         0        0        0        0  \n",
              "..      ...      ...      ...      ...  \n",
              "401       0        0        0        0  \n",
              "402       0        0        0        0  \n",
              "403       0        0        0        0  \n",
              "404       0        0        0        0  \n",
              "405       0        0        0        1  \n",
              "\n",
              "[406 rows x 53 columns]"
            ],
            "text/html": [
              "\n",
              "  <div id=\"df-cdb9db68-c23c-4f2a-8260-e50bf43588ef\">\n",
              "    <div class=\"colab-df-container\">\n",
              "      <div>\n",
              "<style scoped>\n",
              "    .dataframe tbody tr th:only-of-type {\n",
              "        vertical-align: middle;\n",
              "    }\n",
              "\n",
              "    .dataframe tbody tr th {\n",
              "        vertical-align: top;\n",
              "    }\n",
              "\n",
              "    .dataframe thead th {\n",
              "        text-align: right;\n",
              "    }\n",
              "</style>\n",
              "<table border=\"1\" class=\"dataframe\">\n",
              "  <thead>\n",
              "    <tr style=\"text-align: right;\">\n",
              "      <th></th>\n",
              "      <th>Lat</th>\n",
              "      <th>Long</th>\n",
              "      <th>1/22/20</th>\n",
              "      <th>1/23/20</th>\n",
              "      <th>1/24/20</th>\n",
              "      <th>1/25/20</th>\n",
              "      <th>1/26/20</th>\n",
              "      <th>1/27/20</th>\n",
              "      <th>1/28/20</th>\n",
              "      <th>1/29/20</th>\n",
              "      <th>...</th>\n",
              "      <th>3/3/20</th>\n",
              "      <th>3/4/20</th>\n",
              "      <th>3/5/20</th>\n",
              "      <th>3/6/20</th>\n",
              "      <th>3/7/20</th>\n",
              "      <th>3/8/20</th>\n",
              "      <th>3/9/20</th>\n",
              "      <th>3/10/20</th>\n",
              "      <th>3/11/20</th>\n",
              "      <th>3/12/20</th>\n",
              "    </tr>\n",
              "  </thead>\n",
              "  <tbody>\n",
              "    <tr>\n",
              "      <th>0</th>\n",
              "      <td>15.0000</td>\n",
              "      <td>101.0000</td>\n",
              "      <td>0</td>\n",
              "      <td>0</td>\n",
              "      <td>0</td>\n",
              "      <td>0</td>\n",
              "      <td>0</td>\n",
              "      <td>0</td>\n",
              "      <td>0</td>\n",
              "      <td>0</td>\n",
              "      <td>...</td>\n",
              "      <td>1</td>\n",
              "      <td>1</td>\n",
              "      <td>1</td>\n",
              "      <td>1</td>\n",
              "      <td>1</td>\n",
              "      <td>1</td>\n",
              "      <td>1</td>\n",
              "      <td>1</td>\n",
              "      <td>1</td>\n",
              "      <td>1</td>\n",
              "    </tr>\n",
              "    <tr>\n",
              "      <th>1</th>\n",
              "      <td>36.0000</td>\n",
              "      <td>138.0000</td>\n",
              "      <td>0</td>\n",
              "      <td>0</td>\n",
              "      <td>0</td>\n",
              "      <td>0</td>\n",
              "      <td>0</td>\n",
              "      <td>0</td>\n",
              "      <td>0</td>\n",
              "      <td>0</td>\n",
              "      <td>...</td>\n",
              "      <td>6</td>\n",
              "      <td>6</td>\n",
              "      <td>6</td>\n",
              "      <td>6</td>\n",
              "      <td>6</td>\n",
              "      <td>6</td>\n",
              "      <td>10</td>\n",
              "      <td>10</td>\n",
              "      <td>15</td>\n",
              "      <td>16</td>\n",
              "    </tr>\n",
              "    <tr>\n",
              "      <th>2</th>\n",
              "      <td>1.2833</td>\n",
              "      <td>103.8333</td>\n",
              "      <td>0</td>\n",
              "      <td>0</td>\n",
              "      <td>0</td>\n",
              "      <td>0</td>\n",
              "      <td>0</td>\n",
              "      <td>0</td>\n",
              "      <td>0</td>\n",
              "      <td>0</td>\n",
              "      <td>...</td>\n",
              "      <td>0</td>\n",
              "      <td>0</td>\n",
              "      <td>0</td>\n",
              "      <td>0</td>\n",
              "      <td>0</td>\n",
              "      <td>0</td>\n",
              "      <td>0</td>\n",
              "      <td>0</td>\n",
              "      <td>0</td>\n",
              "      <td>0</td>\n",
              "    </tr>\n",
              "    <tr>\n",
              "      <th>3</th>\n",
              "      <td>28.1667</td>\n",
              "      <td>84.2500</td>\n",
              "      <td>0</td>\n",
              "      <td>0</td>\n",
              "      <td>0</td>\n",
              "      <td>0</td>\n",
              "      <td>0</td>\n",
              "      <td>0</td>\n",
              "      <td>0</td>\n",
              "      <td>0</td>\n",
              "      <td>...</td>\n",
              "      <td>0</td>\n",
              "      <td>0</td>\n",
              "      <td>0</td>\n",
              "      <td>0</td>\n",
              "      <td>0</td>\n",
              "      <td>0</td>\n",
              "      <td>0</td>\n",
              "      <td>0</td>\n",
              "      <td>0</td>\n",
              "      <td>0</td>\n",
              "    </tr>\n",
              "    <tr>\n",
              "      <th>4</th>\n",
              "      <td>2.5000</td>\n",
              "      <td>112.5000</td>\n",
              "      <td>0</td>\n",
              "      <td>0</td>\n",
              "      <td>0</td>\n",
              "      <td>0</td>\n",
              "      <td>0</td>\n",
              "      <td>0</td>\n",
              "      <td>0</td>\n",
              "      <td>0</td>\n",
              "      <td>...</td>\n",
              "      <td>0</td>\n",
              "      <td>0</td>\n",
              "      <td>0</td>\n",
              "      <td>0</td>\n",
              "      <td>0</td>\n",
              "      <td>0</td>\n",
              "      <td>0</td>\n",
              "      <td>0</td>\n",
              "      <td>0</td>\n",
              "      <td>0</td>\n",
              "    </tr>\n",
              "    <tr>\n",
              "      <th>...</th>\n",
              "      <td>...</td>\n",
              "      <td>...</td>\n",
              "      <td>...</td>\n",
              "      <td>...</td>\n",
              "      <td>...</td>\n",
              "      <td>...</td>\n",
              "      <td>...</td>\n",
              "      <td>...</td>\n",
              "      <td>...</td>\n",
              "      <td>...</td>\n",
              "      <td>...</td>\n",
              "      <td>...</td>\n",
              "      <td>...</td>\n",
              "      <td>...</td>\n",
              "      <td>...</td>\n",
              "      <td>...</td>\n",
              "      <td>...</td>\n",
              "      <td>...</td>\n",
              "      <td>...</td>\n",
              "      <td>...</td>\n",
              "      <td>...</td>\n",
              "    </tr>\n",
              "    <tr>\n",
              "      <th>401</th>\n",
              "      <td>42.5922</td>\n",
              "      <td>-83.3362</td>\n",
              "      <td>0</td>\n",
              "      <td>0</td>\n",
              "      <td>0</td>\n",
              "      <td>0</td>\n",
              "      <td>0</td>\n",
              "      <td>0</td>\n",
              "      <td>0</td>\n",
              "      <td>0</td>\n",
              "      <td>...</td>\n",
              "      <td>0</td>\n",
              "      <td>0</td>\n",
              "      <td>0</td>\n",
              "      <td>0</td>\n",
              "      <td>0</td>\n",
              "      <td>0</td>\n",
              "      <td>0</td>\n",
              "      <td>0</td>\n",
              "      <td>0</td>\n",
              "      <td>0</td>\n",
              "    </tr>\n",
              "    <tr>\n",
              "      <th>402</th>\n",
              "      <td>42.2791</td>\n",
              "      <td>-83.3362</td>\n",
              "      <td>0</td>\n",
              "      <td>0</td>\n",
              "      <td>0</td>\n",
              "      <td>0</td>\n",
              "      <td>0</td>\n",
              "      <td>0</td>\n",
              "      <td>0</td>\n",
              "      <td>0</td>\n",
              "      <td>...</td>\n",
              "      <td>0</td>\n",
              "      <td>0</td>\n",
              "      <td>0</td>\n",
              "      <td>0</td>\n",
              "      <td>0</td>\n",
              "      <td>0</td>\n",
              "      <td>0</td>\n",
              "      <td>0</td>\n",
              "      <td>0</td>\n",
              "      <td>0</td>\n",
              "    </tr>\n",
              "    <tr>\n",
              "      <th>403</th>\n",
              "      <td>39.5393</td>\n",
              "      <td>-75.6674</td>\n",
              "      <td>0</td>\n",
              "      <td>0</td>\n",
              "      <td>0</td>\n",
              "      <td>0</td>\n",
              "      <td>0</td>\n",
              "      <td>0</td>\n",
              "      <td>0</td>\n",
              "      <td>0</td>\n",
              "      <td>...</td>\n",
              "      <td>0</td>\n",
              "      <td>0</td>\n",
              "      <td>0</td>\n",
              "      <td>0</td>\n",
              "      <td>0</td>\n",
              "      <td>0</td>\n",
              "      <td>0</td>\n",
              "      <td>0</td>\n",
              "      <td>0</td>\n",
              "      <td>0</td>\n",
              "    </tr>\n",
              "    <tr>\n",
              "      <th>404</th>\n",
              "      <td>22.0000</td>\n",
              "      <td>-80.0000</td>\n",
              "      <td>0</td>\n",
              "      <td>0</td>\n",
              "      <td>0</td>\n",
              "      <td>0</td>\n",
              "      <td>0</td>\n",
              "      <td>0</td>\n",
              "      <td>0</td>\n",
              "      <td>0</td>\n",
              "      <td>...</td>\n",
              "      <td>0</td>\n",
              "      <td>0</td>\n",
              "      <td>0</td>\n",
              "      <td>0</td>\n",
              "      <td>0</td>\n",
              "      <td>0</td>\n",
              "      <td>0</td>\n",
              "      <td>0</td>\n",
              "      <td>0</td>\n",
              "      <td>0</td>\n",
              "    </tr>\n",
              "    <tr>\n",
              "      <th>405</th>\n",
              "      <td>5.0000</td>\n",
              "      <td>-58.7500</td>\n",
              "      <td>0</td>\n",
              "      <td>0</td>\n",
              "      <td>0</td>\n",
              "      <td>0</td>\n",
              "      <td>0</td>\n",
              "      <td>0</td>\n",
              "      <td>0</td>\n",
              "      <td>0</td>\n",
              "      <td>...</td>\n",
              "      <td>0</td>\n",
              "      <td>0</td>\n",
              "      <td>0</td>\n",
              "      <td>0</td>\n",
              "      <td>0</td>\n",
              "      <td>0</td>\n",
              "      <td>0</td>\n",
              "      <td>0</td>\n",
              "      <td>0</td>\n",
              "      <td>1</td>\n",
              "    </tr>\n",
              "  </tbody>\n",
              "</table>\n",
              "<p>406 rows × 53 columns</p>\n",
              "</div>\n",
              "      <button class=\"colab-df-convert\" onclick=\"convertToInteractive('df-cdb9db68-c23c-4f2a-8260-e50bf43588ef')\"\n",
              "              title=\"Convert this dataframe to an interactive table.\"\n",
              "              style=\"display:none;\">\n",
              "        \n",
              "  <svg xmlns=\"http://www.w3.org/2000/svg\" height=\"24px\"viewBox=\"0 0 24 24\"\n",
              "       width=\"24px\">\n",
              "    <path d=\"M0 0h24v24H0V0z\" fill=\"none\"/>\n",
              "    <path d=\"M18.56 5.44l.94 2.06.94-2.06 2.06-.94-2.06-.94-.94-2.06-.94 2.06-2.06.94zm-11 1L8.5 8.5l.94-2.06 2.06-.94-2.06-.94L8.5 2.5l-.94 2.06-2.06.94zm10 10l.94 2.06.94-2.06 2.06-.94-2.06-.94-.94-2.06-.94 2.06-2.06.94z\"/><path d=\"M17.41 7.96l-1.37-1.37c-.4-.4-.92-.59-1.43-.59-.52 0-1.04.2-1.43.59L10.3 9.45l-7.72 7.72c-.78.78-.78 2.05 0 2.83L4 21.41c.39.39.9.59 1.41.59.51 0 1.02-.2 1.41-.59l7.78-7.78 2.81-2.81c.8-.78.8-2.07 0-2.86zM5.41 20L4 18.59l7.72-7.72 1.47 1.35L5.41 20z\"/>\n",
              "  </svg>\n",
              "      </button>\n",
              "      \n",
              "  <style>\n",
              "    .colab-df-container {\n",
              "      display:flex;\n",
              "      flex-wrap:wrap;\n",
              "      gap: 12px;\n",
              "    }\n",
              "\n",
              "    .colab-df-convert {\n",
              "      background-color: #E8F0FE;\n",
              "      border: none;\n",
              "      border-radius: 50%;\n",
              "      cursor: pointer;\n",
              "      display: none;\n",
              "      fill: #1967D2;\n",
              "      height: 32px;\n",
              "      padding: 0 0 0 0;\n",
              "      width: 32px;\n",
              "    }\n",
              "\n",
              "    .colab-df-convert:hover {\n",
              "      background-color: #E2EBFA;\n",
              "      box-shadow: 0px 1px 2px rgba(60, 64, 67, 0.3), 0px 1px 3px 1px rgba(60, 64, 67, 0.15);\n",
              "      fill: #174EA6;\n",
              "    }\n",
              "\n",
              "    [theme=dark] .colab-df-convert {\n",
              "      background-color: #3B4455;\n",
              "      fill: #D2E3FC;\n",
              "    }\n",
              "\n",
              "    [theme=dark] .colab-df-convert:hover {\n",
              "      background-color: #434B5C;\n",
              "      box-shadow: 0px 1px 3px 1px rgba(0, 0, 0, 0.15);\n",
              "      filter: drop-shadow(0px 1px 2px rgba(0, 0, 0, 0.3));\n",
              "      fill: #FFFFFF;\n",
              "    }\n",
              "  </style>\n",
              "\n",
              "      <script>\n",
              "        const buttonEl =\n",
              "          document.querySelector('#df-cdb9db68-c23c-4f2a-8260-e50bf43588ef button.colab-df-convert');\n",
              "        buttonEl.style.display =\n",
              "          google.colab.kernel.accessAllowed ? 'block' : 'none';\n",
              "\n",
              "        async function convertToInteractive(key) {\n",
              "          const element = document.querySelector('#df-cdb9db68-c23c-4f2a-8260-e50bf43588ef');\n",
              "          const dataTable =\n",
              "            await google.colab.kernel.invokeFunction('convertToInteractive',\n",
              "                                                     [key], {});\n",
              "          if (!dataTable) return;\n",
              "\n",
              "          const docLinkHtml = 'Like what you see? Visit the ' +\n",
              "            '<a target=\"_blank\" href=https://colab.research.google.com/notebooks/data_table.ipynb>data table notebook</a>'\n",
              "            + ' to learn more about interactive tables.';\n",
              "          element.innerHTML = '';\n",
              "          dataTable['output_type'] = 'display_data';\n",
              "          await google.colab.output.renderOutput(dataTable, element);\n",
              "          const docLink = document.createElement('div');\n",
              "          docLink.innerHTML = docLinkHtml;\n",
              "          element.appendChild(docLink);\n",
              "        }\n",
              "      </script>\n",
              "    </div>\n",
              "  </div>\n",
              "  "
            ]
          },
          "metadata": {},
          "execution_count": 74
        }
      ]
    },
    {
      "cell_type": "code",
      "source": [
        "DATAs"
      ],
      "metadata": {
        "id": "w-J_Nh009HJ2",
        "outputId": "72c9b54e-cde7-4b0a-f7ad-aa4251e090e6",
        "colab": {
          "base_uri": "https://localhost:8080/"
        }
      },
      "id": "w-J_Nh009HJ2",
      "execution_count": 75,
      "outputs": [
        {
          "output_type": "execute_result",
          "data": {
            "text/plain": [
              "[array([[ -30.5595,   22.9375,   22.    ,    0.    ],\n",
              "        [  40.745 , -123.8695,    7.    ,    0.    ],\n",
              "        [  43.9424,   12.4578,   35.    ,    0.    ],\n",
              "        ...,\n",
              "        [  27.8764,  -82.7779,   28.    ,    0.    ],\n",
              "        [  42.5922,  -83.3362,   21.    ,    0.    ],\n",
              "        [  47.5162,   14.5501,    4.    ,    0.    ]]),\n",
              " array([[  47.6477, -122.6413,    0.    ,    0.    ],\n",
              "        [  39.5393,  -75.6674,   18.    ,    0.    ],\n",
              "        [  12.2383,   -1.5616,   29.    ,    0.    ],\n",
              "        ...,\n",
              "        [  33.1795,  -96.493 ,   30.    ,    0.    ],\n",
              "        [  30.3883,  -95.6963,   22.    ,    0.    ],\n",
              "        [  21.    ,   78.    ,   14.    ,    0.    ]]),\n",
              " array([[  56.2639,    9.5018,    8.    ,    0.    ],\n",
              "        [  34.3705, -119.1391,   18.    ,    0.    ],\n",
              "        [  39.3999,   -8.2245,   30.    ,    0.    ],\n",
              "        ...,\n",
              "        [  42.2791,  -83.3362,   43.    ,    0.    ],\n",
              "        [  38.0834, -122.7633,   25.    ,    0.    ],\n",
              "        [  42.632 ,  -70.7829,   35.    ,    0.    ]])]"
            ]
          },
          "metadata": {},
          "execution_count": 75
        }
      ]
    },
    {
      "cell_type": "code",
      "source": [
        "DATAs[0]"
      ],
      "metadata": {
        "id": "1pQx8Evx8t5Z",
        "outputId": "a5cd8c7b-8b53-4ea0-9796-89e72038c6a1",
        "colab": {
          "base_uri": "https://localhost:8080/"
        }
      },
      "id": "1pQx8Evx8t5Z",
      "execution_count": 76,
      "outputs": [
        {
          "output_type": "execute_result",
          "data": {
            "text/plain": [
              "array([[ -30.5595,   22.9375,   22.    ,    0.    ],\n",
              "       [  40.745 , -123.8695,    7.    ,    0.    ],\n",
              "       [  43.9424,   12.4578,   35.    ,    0.    ],\n",
              "       ...,\n",
              "       [  27.8764,  -82.7779,   28.    ,    0.    ],\n",
              "       [  42.5922,  -83.3362,   21.    ,    0.    ],\n",
              "       [  47.5162,   14.5501,    4.    ,    0.    ]])"
            ]
          },
          "metadata": {},
          "execution_count": 76
        }
      ]
    },
    {
      "cell_type": "markdown",
      "source": [
        "# Models"
      ],
      "metadata": {
        "id": "P-BCOaaA7Uy2"
      },
      "id": "P-BCOaaA7Uy2"
    },
    {
      "cell_type": "markdown",
      "source": [
        "## Confirmed"
      ],
      "metadata": {
        "id": "G8qlSCp5aOen"
      },
      "id": "G8qlSCp5aOen"
    },
    {
      "cell_type": "code",
      "source": [
        "DATA = DATAs[2]\n",
        "input_data = DATA[:,:-1]\n",
        "print(input_data.shape)\n",
        "output_data = DATA[:, -1]\n",
        "print(output_data.shape)\n",
        "input_train, input_test, output_train, output_test = train_test_split(input_data, output_data)"
      ],
      "metadata": {
        "id": "cUzIO8NTac-t",
        "colab": {
          "base_uri": "https://localhost:8080/"
        },
        "outputId": "f733323c-95b3-4e8e-8829-a6ac07994f3a"
      },
      "execution_count": 77,
      "outputs": [
        {
          "output_type": "stream",
          "name": "stdout",
          "text": [
            "(20706, 3)\n",
            "(20706,)\n"
          ]
        }
      ],
      "id": "cUzIO8NTac-t"
    },
    {
      "cell_type": "markdown",
      "source": [
        "### keras"
      ],
      "metadata": {
        "id": "fA78NSpYmnz8"
      },
      "id": "fA78NSpYmnz8"
    },
    {
      "cell_type": "code",
      "source": [
        "X_train, X_test, y_train, y_test = input_train, input_test, output_train, output_test"
      ],
      "metadata": {
        "id": "REpO4s3ecIws"
      },
      "id": "REpO4s3ecIws",
      "execution_count": 78,
      "outputs": []
    },
    {
      "cell_type": "code",
      "source": [
        "model = Sequential()\n",
        "\n",
        "model.add(Dense(4, input_dim=X_train.shape[1], activation='relu'))\n",
        "model.add(Dense(4, activation='relu'))\n",
        "model.add(Dense(4, activation='relu'))\n",
        "model.add(Dense(4, activation='relu'))\n",
        "model.add(Dense(1, activation='relu'))\n"
      ],
      "metadata": {
        "id": "8SLdJiQmbvhQ"
      },
      "id": "8SLdJiQmbvhQ",
      "execution_count": 79,
      "outputs": []
    },
    {
      "cell_type": "code",
      "source": [
        "#Early stopping\n",
        "early_stopping = callbacks.EarlyStopping(\n",
        "    min_delta=0.001,          # minimium amount of change to be considered an improvement\n",
        "    patience=20,              # number of epochs to wait before deciding there is no significant improvement in training\n",
        "    restore_best_weights=True,\n",
        ")"
      ],
      "metadata": {
        "id": "DD7wYnVFcd7U"
      },
      "id": "DD7wYnVFcd7U",
      "execution_count": 80,
      "outputs": []
    },
    {
      "cell_type": "code",
      "source": [
        "model.compile(\n",
        "    loss='mean_squared_error', \n",
        "    optimizer=tf.keras.optimizers.Adam(learning_rate=0.1),\n",
        "    )"
      ],
      "metadata": {
        "id": "-ucTy4PEcfnh"
      },
      "id": "-ucTy4PEcfnh",
      "execution_count": 81,
      "outputs": []
    },
    {
      "cell_type": "code",
      "source": [
        "history = model.fit(X_train, y_train, \n",
        "                    batch_size = 1024, \n",
        "                    epochs = 100, \n",
        "                    validation_split=0.2,\n",
        "                    callbacks=[early_stopping]\n",
        "                    )"
      ],
      "metadata": {
        "colab": {
          "base_uri": "https://localhost:8080/"
        },
        "id": "Eb4uoVjGch77",
        "outputId": "bd786113-807a-4de0-d836-57255774094d"
      },
      "id": "Eb4uoVjGch77",
      "execution_count": 82,
      "outputs": [
        {
          "output_type": "stream",
          "name": "stdout",
          "text": [
            "Epoch 1/100000\n",
            "13/13 [==============================] - 2s 16ms/step - loss: 6481283.0000 - val_loss: 5991953.5000\n",
            "Epoch 2/100000\n",
            "13/13 [==============================] - 0s 7ms/step - loss: 6436310.0000 - val_loss: 6030565.0000\n",
            "Epoch 3/100000\n",
            "13/13 [==============================] - 0s 7ms/step - loss: 6445223.5000 - val_loss: 5989728.0000\n",
            "Epoch 4/100000\n",
            "13/13 [==============================] - 0s 6ms/step - loss: 6428353.5000 - val_loss: 5969086.0000\n",
            "Epoch 5/100000\n",
            "13/13 [==============================] - 0s 7ms/step - loss: 6344712.0000 - val_loss: 5918072.0000\n",
            "Epoch 6/100000\n",
            "13/13 [==============================] - 0s 8ms/step - loss: 6310404.5000 - val_loss: 6095036.0000\n",
            "Epoch 7/100000\n",
            "13/13 [==============================] - 0s 6ms/step - loss: 6549289.5000 - val_loss: 6094577.0000\n",
            "Epoch 8/100000\n",
            "13/13 [==============================] - 0s 6ms/step - loss: 6548386.5000 - val_loss: 6093505.5000\n",
            "Epoch 9/100000\n",
            "13/13 [==============================] - 0s 6ms/step - loss: 6547053.5000 - val_loss: 6092385.5000\n",
            "Epoch 10/100000\n",
            "13/13 [==============================] - 0s 7ms/step - loss: 6545819.5000 - val_loss: 6091288.5000\n",
            "Epoch 11/100000\n",
            "13/13 [==============================] - 0s 5ms/step - loss: 6544728.0000 - val_loss: 6090191.0000\n",
            "Epoch 12/100000\n",
            "13/13 [==============================] - 0s 5ms/step - loss: 6543405.5000 - val_loss: 6089257.0000\n",
            "Epoch 13/100000\n",
            "13/13 [==============================] - 0s 6ms/step - loss: 6542182.0000 - val_loss: 6088054.0000\n",
            "Epoch 14/100000\n",
            "13/13 [==============================] - 0s 7ms/step - loss: 6540889.0000 - val_loss: 6086861.5000\n",
            "Epoch 15/100000\n",
            "13/13 [==============================] - 0s 6ms/step - loss: 6539374.5000 - val_loss: 6085561.5000\n",
            "Epoch 16/100000\n",
            "13/13 [==============================] - 0s 5ms/step - loss: 6537944.5000 - val_loss: 6084385.0000\n",
            "Epoch 17/100000\n",
            "13/13 [==============================] - 0s 6ms/step - loss: 6536451.5000 - val_loss: 6083136.5000\n",
            "Epoch 18/100000\n",
            "13/13 [==============================] - 0s 8ms/step - loss: 6535064.5000 - val_loss: 6081934.5000\n",
            "Epoch 19/100000\n",
            "13/13 [==============================] - 0s 5ms/step - loss: 6533554.0000 - val_loss: 6080600.5000\n",
            "Epoch 20/100000\n",
            "13/13 [==============================] - 0s 5ms/step - loss: 6532061.5000 - val_loss: 6079705.0000\n",
            "Epoch 21/100000\n",
            "13/13 [==============================] - 0s 6ms/step - loss: 6530994.5000 - val_loss: 6078960.5000\n",
            "Epoch 22/100000\n",
            "13/13 [==============================] - 0s 7ms/step - loss: 6530085.5000 - val_loss: 6078340.5000\n",
            "Epoch 23/100000\n",
            "13/13 [==============================] - 0s 7ms/step - loss: 6529191.0000 - val_loss: 6077769.0000\n",
            "Epoch 24/100000\n",
            "13/13 [==============================] - 0s 7ms/step - loss: 6528531.0000 - val_loss: 6077467.5000\n",
            "Epoch 25/100000\n",
            "13/13 [==============================] - 0s 7ms/step - loss: 6528066.0000 - val_loss: 6077351.5000\n"
          ]
        }
      ]
    },
    {
      "cell_type": "code",
      "source": [
        "predictions = model.predict(X_test)\n",
        "print('r2-score is', r2_score(y_pred=predictions, y_true=y_test))"
      ],
      "metadata": {
        "colab": {
          "base_uri": "https://localhost:8080/"
        },
        "id": "EtDd89VYhhTf",
        "outputId": "05705be7-079b-4eb7-dfdf-2bca06ea9a49"
      },
      "id": "EtDd89VYhhTf",
      "execution_count": 83,
      "outputs": [
        {
          "output_type": "stream",
          "name": "stdout",
          "text": [
            "162/162 [==============================] - 0s 2ms/step\n",
            "r2-score is 0.0351292976520039\n"
          ]
        }
      ]
    },
    {
      "cell_type": "code",
      "source": [
        "predictions"
      ],
      "metadata": {
        "colab": {
          "base_uri": "https://localhost:8080/"
        },
        "id": "DFd4Nkrvh8AV",
        "outputId": "6c2ad932-dda4-4f3a-caad-661bcc5af741"
      },
      "id": "DFd4Nkrvh8AV",
      "execution_count": 84,
      "outputs": [
        {
          "output_type": "execute_result",
          "data": {
            "text/plain": [
              "array([[   3.7981806],\n",
              "       [   3.7981806],\n",
              "       [   3.7981806],\n",
              "       ...,\n",
              "       [   3.7981806],\n",
              "       [   3.7981806],\n",
              "       [2605.4165   ]], dtype=float32)"
            ]
          },
          "metadata": {},
          "execution_count": 84
        }
      ]
    },
    {
      "cell_type": "markdown",
      "source": [
        "### sk-learn"
      ],
      "metadata": {
        "id": "QGrAbSyJmi2-"
      },
      "id": "QGrAbSyJmi2-"
    },
    {
      "cell_type": "code",
      "source": [
        "clf = MLPRegressor(hidden_layer_sizes = (4,4,4,4),\n",
        "                   activation='relu',\n",
        "                   solver='lbfgs',\n",
        "                   learning_rate='constant',\n",
        "                   learning_rate_init=0.1,\n",
        "                   alpha=0.0001,\n",
        "                   max_iter=10000000)\n",
        "clf.fit(input_train, output_train)"
      ],
      "metadata": {
        "id": "PNXyk6lPa10v",
        "colab": {
          "base_uri": "https://localhost:8080/"
        },
        "outputId": "93f28c32-8ce4-42b3-952b-ebfdbb329d31"
      },
      "execution_count": 85,
      "outputs": [
        {
          "output_type": "execute_result",
          "data": {
            "text/plain": [
              "MLPRegressor(hidden_layer_sizes=(4, 4, 4, 4), learning_rate_init=0.1,\n",
              "             max_iter=10000000, solver='lbfgs')"
            ]
          },
          "metadata": {},
          "execution_count": 85
        }
      ],
      "id": "PNXyk6lPa10v"
    },
    {
      "cell_type": "code",
      "source": [
        "clf.score(input_train, output_train)\n"
      ],
      "metadata": {
        "id": "m4RdBN-Nqkh8",
        "outputId": "874b8b43-f6fe-4db9-dd90-f629426a33fe",
        "colab": {
          "base_uri": "https://localhost:8080/"
        }
      },
      "id": "m4RdBN-Nqkh8",
      "execution_count": 86,
      "outputs": [
        {
          "output_type": "execute_result",
          "data": {
            "text/plain": [
              "1.1102230246251565e-16"
            ]
          },
          "metadata": {},
          "execution_count": 86
        }
      ]
    },
    {
      "cell_type": "code",
      "source": [
        "clf.score(input_test, output_test)"
      ],
      "metadata": {
        "colab": {
          "base_uri": "https://localhost:8080/"
        },
        "id": "hVHthQeYb8x_",
        "outputId": "340029e4-46b2-4b22-a55d-935e45971305"
      },
      "id": "hVHthQeYb8x_",
      "execution_count": 87,
      "outputs": [
        {
          "output_type": "execute_result",
          "data": {
            "text/plain": [
              "-0.00011936719774263693"
            ]
          },
          "metadata": {},
          "execution_count": 87
        }
      ]
    },
    {
      "cell_type": "markdown",
      "source": [
        "## Recovered"
      ],
      "metadata": {
        "id": "6MVpQAjaaUUH"
      },
      "id": "6MVpQAjaaUUH"
    },
    {
      "cell_type": "code",
      "source": [
        "DATA = DATAs[1]\n",
        "input_data = DATA[:,:-1]\n",
        "print(input_data.shape)\n",
        "output_data = DATA[:, -1]\n",
        "print(output_data.shape)\n",
        "input_train, input_test, output_train, output_test = train_test_split(input_data, output_data)"
      ],
      "metadata": {
        "colab": {
          "base_uri": "https://localhost:8080/"
        },
        "outputId": "e8f4da8a-1f2e-4ca1-d861-61120bfeba6a",
        "id": "KKt7XrJYnq8v"
      },
      "execution_count": 88,
      "outputs": [
        {
          "output_type": "stream",
          "name": "stdout",
          "text": [
            "(20706, 3)\n",
            "(20706,)\n"
          ]
        }
      ],
      "id": "KKt7XrJYnq8v"
    },
    {
      "cell_type": "markdown",
      "source": [
        "### keras"
      ],
      "metadata": {
        "id": "aCyav_SAnq8_"
      },
      "id": "aCyav_SAnq8_"
    },
    {
      "cell_type": "code",
      "source": [
        "X_train, X_test, y_train, y_test = input_train, input_test, output_train, output_test"
      ],
      "metadata": {
        "id": "BNeFHaGdnq8_"
      },
      "execution_count": 89,
      "outputs": [],
      "id": "BNeFHaGdnq8_"
    },
    {
      "cell_type": "code",
      "source": [
        "model = Sequential()\n",
        "\n",
        "model.add(Dense(4, input_dim=X_train.shape[1], activation='relu'))\n",
        "model.add(Dense(4, activation='relu'))\n",
        "model.add(Dense(4, activation='relu'))\n",
        "model.add(Dense(4, activation='relu'))\n",
        "model.add(Dense(1, activation='relu'))\n"
      ],
      "metadata": {
        "id": "e6nFC1tYnq8_"
      },
      "execution_count": 90,
      "outputs": [],
      "id": "e6nFC1tYnq8_"
    },
    {
      "cell_type": "code",
      "source": [
        "#Early stopping\n",
        "early_stopping = callbacks.EarlyStopping(\n",
        "    min_delta=0.001,          # minimium amount of change to be considered an improvement\n",
        "    patience=20,              # number of epochs to wait before deciding there is no significant improvement in training\n",
        "    restore_best_weights=True,\n",
        ")"
      ],
      "metadata": {
        "id": "V2pJni59nq9A"
      },
      "execution_count": 91,
      "outputs": [],
      "id": "V2pJni59nq9A"
    },
    {
      "cell_type": "code",
      "source": [
        "model.compile(\n",
        "    loss='mean_squared_error', \n",
        "    optimizer=tf.keras.optimizers.Adam(learning_rate=0.1),\n",
        "    )"
      ],
      "metadata": {
        "id": "HbcMTx_tnq9A"
      },
      "execution_count": 92,
      "outputs": [],
      "id": "HbcMTx_tnq9A"
    },
    {
      "cell_type": "code",
      "source": [
        "history = model.fit(X_train, y_train, \n",
        "                    batch_size = 1024, \n",
        "                    epochs = 100000, \n",
        "                    validation_split=0.2,\n",
        "                    callbacks=[early_stopping]\n",
        "                    )"
      ],
      "metadata": {
        "colab": {
          "base_uri": "https://localhost:8080/"
        },
        "outputId": "99caeb1c-a33b-4bfd-aba7-b89006548721",
        "id": "G4LIJVCbnq9A"
      },
      "execution_count": 93,
      "outputs": [
        {
          "output_type": "stream",
          "name": "stdout",
          "text": [
            "Epoch 1/100000\n",
            "13/13 [==============================] - 2s 17ms/step - loss: 1325359.5000 - val_loss: 290346.1875\n",
            "Epoch 2/100000\n",
            "13/13 [==============================] - 0s 8ms/step - loss: 1325359.5000 - val_loss: 290346.1875\n",
            "Epoch 3/100000\n",
            "13/13 [==============================] - 0s 9ms/step - loss: 1325359.5000 - val_loss: 290346.1875\n",
            "Epoch 4/100000\n",
            "13/13 [==============================] - 0s 10ms/step - loss: 1325359.5000 - val_loss: 290346.1875\n",
            "Epoch 5/100000\n",
            "13/13 [==============================] - 0s 9ms/step - loss: 1325359.3750 - val_loss: 290346.1875\n",
            "Epoch 6/100000\n",
            "13/13 [==============================] - 0s 9ms/step - loss: 1325359.3750 - val_loss: 290346.1875\n",
            "Epoch 7/100000\n",
            "13/13 [==============================] - 0s 9ms/step - loss: 1325359.6250 - val_loss: 290346.1875\n",
            "Epoch 8/100000\n",
            "13/13 [==============================] - 0s 9ms/step - loss: 1325359.6250 - val_loss: 290346.1875\n",
            "Epoch 9/100000\n",
            "13/13 [==============================] - 0s 9ms/step - loss: 1325359.6250 - val_loss: 290346.1875\n",
            "Epoch 10/100000\n",
            "13/13 [==============================] - 0s 9ms/step - loss: 1325359.6250 - val_loss: 290346.1875\n",
            "Epoch 11/100000\n",
            "13/13 [==============================] - 0s 9ms/step - loss: 1325359.5000 - val_loss: 290346.1875\n",
            "Epoch 12/100000\n",
            "13/13 [==============================] - 0s 8ms/step - loss: 1325359.6250 - val_loss: 290346.1875\n",
            "Epoch 13/100000\n",
            "13/13 [==============================] - 0s 9ms/step - loss: 1325359.5000 - val_loss: 290346.1875\n",
            "Epoch 14/100000\n",
            "13/13 [==============================] - 0s 9ms/step - loss: 1325359.5000 - val_loss: 290346.1875\n",
            "Epoch 15/100000\n",
            "13/13 [==============================] - 0s 9ms/step - loss: 1325359.6250 - val_loss: 290346.1875\n",
            "Epoch 16/100000\n",
            "13/13 [==============================] - 0s 10ms/step - loss: 1325359.5000 - val_loss: 290346.1875\n",
            "Epoch 17/100000\n",
            "13/13 [==============================] - 0s 9ms/step - loss: 1325359.5000 - val_loss: 290346.1875\n",
            "Epoch 18/100000\n",
            "13/13 [==============================] - 0s 9ms/step - loss: 1325359.5000 - val_loss: 290346.1875\n",
            "Epoch 19/100000\n",
            "13/13 [==============================] - 0s 9ms/step - loss: 1325359.5000 - val_loss: 290346.1875\n",
            "Epoch 20/100000\n",
            "13/13 [==============================] - 0s 8ms/step - loss: 1325359.3750 - val_loss: 290346.1875\n",
            "Epoch 21/100000\n",
            "13/13 [==============================] - 0s 6ms/step - loss: 1325359.5000 - val_loss: 290346.1875\n"
          ]
        }
      ],
      "id": "G4LIJVCbnq9A"
    },
    {
      "cell_type": "code",
      "source": [
        "predictions = model.predict(X_test)\n",
        "print('r2-score is', r2_score(y_pred=predictions, y_true=y_test))"
      ],
      "metadata": {
        "colab": {
          "base_uri": "https://localhost:8080/"
        },
        "outputId": "2490749c-70d0-4ff1-d8e5-3e8562313c10",
        "id": "H0PCbg3wnq9B"
      },
      "execution_count": 94,
      "outputs": [
        {
          "output_type": "stream",
          "name": "stdout",
          "text": [
            "162/162 [==============================] - 0s 1ms/step\n",
            "r2-score is -0.0021060901117526676\n"
          ]
        }
      ],
      "id": "H0PCbg3wnq9B"
    },
    {
      "cell_type": "code",
      "source": [
        "predictions"
      ],
      "metadata": {
        "colab": {
          "base_uri": "https://localhost:8080/"
        },
        "outputId": "1c8d0c45-01e5-48bd-c3dc-f63d1b1f1c51",
        "id": "GxllZMd5nq9B"
      },
      "execution_count": 95,
      "outputs": [
        {
          "output_type": "execute_result",
          "data": {
            "text/plain": [
              "array([[0.],\n",
              "       [0.],\n",
              "       [0.],\n",
              "       ...,\n",
              "       [0.],\n",
              "       [0.],\n",
              "       [0.]], dtype=float32)"
            ]
          },
          "metadata": {},
          "execution_count": 95
        }
      ],
      "id": "GxllZMd5nq9B"
    },
    {
      "cell_type": "markdown",
      "source": [
        "### sk-learn"
      ],
      "metadata": {
        "id": "lWdkpkQbnq9B"
      },
      "id": "lWdkpkQbnq9B"
    },
    {
      "cell_type": "code",
      "source": [
        "clf = MLPRegressor(hidden_layer_sizes = (4,4,4,4),\n",
        "                   activation='relu',\n",
        "                   solver='lbfgs',\n",
        "                   learning_rate='constant',\n",
        "                   learning_rate_init=0.1,\n",
        "                   alpha=0.0001,\n",
        "                   max_iter=10000000)\n",
        "clf.fit(input_train, output_train)"
      ],
      "metadata": {
        "id": "rhHIIg4ynq9C",
        "outputId": "a35f728b-1d56-45da-b00e-9a19899fcf57",
        "colab": {
          "base_uri": "https://localhost:8080/"
        }
      },
      "execution_count": 96,
      "outputs": [
        {
          "output_type": "stream",
          "name": "stderr",
          "text": [
            "/usr/local/lib/python3.8/dist-packages/sklearn/neural_network/_multilayer_perceptron.py:549: ConvergenceWarning: lbfgs failed to converge (status=2):\n",
            "ABNORMAL_TERMINATION_IN_LNSRCH.\n",
            "\n",
            "Increase the number of iterations (max_iter) or scale the data as shown in:\n",
            "    https://scikit-learn.org/stable/modules/preprocessing.html\n",
            "  self.n_iter_ = _check_optimize_result(\"lbfgs\", opt_res, self.max_iter)\n"
          ]
        },
        {
          "output_type": "execute_result",
          "data": {
            "text/plain": [
              "MLPRegressor(hidden_layer_sizes=(4, 4, 4, 4), learning_rate_init=0.1,\n",
              "             max_iter=10000000, solver='lbfgs')"
            ]
          },
          "metadata": {},
          "execution_count": 96
        }
      ],
      "id": "rhHIIg4ynq9C"
    },
    {
      "cell_type": "code",
      "source": [
        "clf.score(input_train, output_train)\n"
      ],
      "metadata": {
        "id": "Tw_QNfojnq9C",
        "outputId": "3071dd8e-1fef-42a9-b5f7-0fb2f6cbde3d",
        "colab": {
          "base_uri": "https://localhost:8080/"
        }
      },
      "execution_count": 97,
      "outputs": [
        {
          "output_type": "execute_result",
          "data": {
            "text/plain": [
              "0.5377848567152564"
            ]
          },
          "metadata": {},
          "execution_count": 97
        }
      ],
      "id": "Tw_QNfojnq9C"
    },
    {
      "cell_type": "code",
      "source": [
        "clf.score(input_test, output_test)"
      ],
      "metadata": {
        "id": "O77p1TElnq9C",
        "outputId": "a31467b2-8091-4c46-c40a-64132bd63db7",
        "colab": {
          "base_uri": "https://localhost:8080/"
        }
      },
      "execution_count": 98,
      "outputs": [
        {
          "output_type": "execute_result",
          "data": {
            "text/plain": [
              "0.5301919841778722"
            ]
          },
          "metadata": {},
          "execution_count": 98
        }
      ],
      "id": "O77p1TElnq9C"
    },
    {
      "cell_type": "markdown",
      "source": [
        "\n",
        "## Dead"
      ],
      "metadata": {
        "id": "Wkz9cGRmaPqA"
      },
      "id": "Wkz9cGRmaPqA"
    },
    {
      "cell_type": "code",
      "source": [
        "DATA = DATAs[0]\n",
        "input_data = DATA[:,:-1]\n",
        "print(input_data.shape)\n",
        "output_data = DATA[:, -1]\n",
        "print(output_data.shape)\n",
        "input_train, input_test, output_train, output_test = train_test_split(input_data, output_data)"
      ],
      "metadata": {
        "colab": {
          "base_uri": "https://localhost:8080/"
        },
        "outputId": "2ef69e8f-d0ae-47d5-fd8c-b95ce108a602",
        "id": "JbDsRUaonr1b"
      },
      "execution_count": 99,
      "outputs": [
        {
          "output_type": "stream",
          "name": "stdout",
          "text": [
            "(20706, 3)\n",
            "(20706,)\n"
          ]
        }
      ],
      "id": "JbDsRUaonr1b"
    },
    {
      "cell_type": "markdown",
      "source": [
        "### keras"
      ],
      "metadata": {
        "id": "UOG3DXNPnr1c"
      },
      "id": "UOG3DXNPnr1c"
    },
    {
      "cell_type": "code",
      "source": [
        "X_train, X_test, y_train, y_test = input_train, input_test, output_train, output_test"
      ],
      "metadata": {
        "id": "cMpdrVYQnr1c"
      },
      "execution_count": 100,
      "outputs": [],
      "id": "cMpdrVYQnr1c"
    },
    {
      "cell_type": "code",
      "source": [
        "model = Sequential()\n",
        "\n",
        "model.add(Dense(4, input_dim=X_train.shape[1], activation='relu'))\n",
        "model.add(Dense(4, activation='relu'))\n",
        "model.add(Dense(4, activation='relu'))\n",
        "model.add(Dense(4, activation='relu'))\n",
        "model.add(Dense(1, activation='relu'))\n"
      ],
      "metadata": {
        "id": "X_jSLAy2nr1c"
      },
      "execution_count": 101,
      "outputs": [],
      "id": "X_jSLAy2nr1c"
    },
    {
      "cell_type": "code",
      "source": [
        "#Early stopping\n",
        "early_stopping = callbacks.EarlyStopping(\n",
        "    min_delta=0.001,          # minimium amount of change to be considered an improvement\n",
        "    patience=20,              # number of epochs to wait before deciding there is no significant improvement in training\n",
        "    restore_best_weights=True,\n",
        ")"
      ],
      "metadata": {
        "id": "FkL-ktdMnr1c"
      },
      "execution_count": 102,
      "outputs": [],
      "id": "FkL-ktdMnr1c"
    },
    {
      "cell_type": "code",
      "source": [
        "model.compile(\n",
        "    loss='mean_squared_error', \n",
        "    optimizer=tf.keras.optimizers.Adam(learning_rate=0.1),\n",
        "    )"
      ],
      "metadata": {
        "id": "tQweuEbNnr1d"
      },
      "execution_count": 103,
      "outputs": [],
      "id": "tQweuEbNnr1d"
    },
    {
      "cell_type": "code",
      "source": [
        "history = model.fit(X_train, y_train, \n",
        "                    batch_size = 1024, \n",
        "                    epochs = 100000, \n",
        "                    validation_split=0.2,\n",
        "                    callbacks=[early_stopping]\n",
        "                    )"
      ],
      "metadata": {
        "colab": {
          "base_uri": "https://localhost:8080/"
        },
        "outputId": "8ccd8277-d0be-4c6e-b9a3-36ee8b595901",
        "id": "wGEX_6eLnr1d"
      },
      "execution_count": 104,
      "outputs": [
        {
          "output_type": "stream",
          "name": "stdout",
          "text": [
            "Epoch 1/100000\n",
            "13/13 [==============================] - 2s 15ms/step - loss: 11650.3926 - val_loss: 6568.0425\n",
            "Epoch 2/100000\n",
            "13/13 [==============================] - 0s 8ms/step - loss: 11352.6914 - val_loss: 6568.0425\n",
            "Epoch 3/100000\n",
            "13/13 [==============================] - 0s 6ms/step - loss: 11352.6895 - val_loss: 6568.0425\n",
            "Epoch 4/100000\n",
            "13/13 [==============================] - 0s 5ms/step - loss: 11352.6924 - val_loss: 6568.0425\n",
            "Epoch 5/100000\n",
            "13/13 [==============================] - 0s 6ms/step - loss: 11352.6924 - val_loss: 6568.0425\n",
            "Epoch 6/100000\n",
            "13/13 [==============================] - 0s 6ms/step - loss: 11352.6914 - val_loss: 6568.0425\n",
            "Epoch 7/100000\n",
            "13/13 [==============================] - 0s 5ms/step - loss: 11352.6914 - val_loss: 6568.0425\n",
            "Epoch 8/100000\n",
            "13/13 [==============================] - 0s 6ms/step - loss: 11352.6914 - val_loss: 6568.0425\n",
            "Epoch 9/100000\n",
            "13/13 [==============================] - 0s 5ms/step - loss: 11352.6895 - val_loss: 6568.0425\n",
            "Epoch 10/100000\n",
            "13/13 [==============================] - 0s 6ms/step - loss: 11352.6895 - val_loss: 6568.0425\n",
            "Epoch 11/100000\n",
            "13/13 [==============================] - 0s 7ms/step - loss: 11352.6914 - val_loss: 6568.0425\n",
            "Epoch 12/100000\n",
            "13/13 [==============================] - 0s 6ms/step - loss: 11352.6924 - val_loss: 6568.0425\n",
            "Epoch 13/100000\n",
            "13/13 [==============================] - 0s 6ms/step - loss: 11352.6914 - val_loss: 6568.0425\n",
            "Epoch 14/100000\n",
            "13/13 [==============================] - 0s 6ms/step - loss: 11352.6914 - val_loss: 6568.0425\n",
            "Epoch 15/100000\n",
            "13/13 [==============================] - 0s 7ms/step - loss: 11352.6924 - val_loss: 6568.0425\n",
            "Epoch 16/100000\n",
            "13/13 [==============================] - 0s 7ms/step - loss: 11352.6914 - val_loss: 6568.0425\n",
            "Epoch 17/100000\n",
            "13/13 [==============================] - 0s 7ms/step - loss: 11352.6914 - val_loss: 6568.0425\n",
            "Epoch 18/100000\n",
            "13/13 [==============================] - 0s 6ms/step - loss: 11352.6924 - val_loss: 6568.0425\n",
            "Epoch 19/100000\n",
            "13/13 [==============================] - 0s 7ms/step - loss: 11352.6924 - val_loss: 6568.0425\n",
            "Epoch 20/100000\n",
            "13/13 [==============================] - 0s 7ms/step - loss: 11352.6924 - val_loss: 6568.0425\n",
            "Epoch 21/100000\n",
            "13/13 [==============================] - 0s 6ms/step - loss: 11352.6914 - val_loss: 6568.0425\n"
          ]
        }
      ],
      "id": "wGEX_6eLnr1d"
    },
    {
      "cell_type": "code",
      "source": [
        "predictions = model.predict(X_test)\n",
        "print('r2-score is', r2_score(y_pred=predictions, y_true=y_test))"
      ],
      "metadata": {
        "colab": {
          "base_uri": "https://localhost:8080/"
        },
        "outputId": "ce4a22b1-7ef6-4c52-b59f-4e8c96846af1",
        "id": "ypfgwsqonr1d"
      },
      "execution_count": 105,
      "outputs": [
        {
          "output_type": "stream",
          "name": "stdout",
          "text": [
            "162/162 [==============================] - 1s 3ms/step\n",
            "r2-score is -0.0020345375408667987\n"
          ]
        }
      ],
      "id": "ypfgwsqonr1d"
    },
    {
      "cell_type": "code",
      "source": [
        "predictions"
      ],
      "metadata": {
        "colab": {
          "base_uri": "https://localhost:8080/"
        },
        "outputId": "f6b17e4e-0090-48a0-90e1-d94d4de867b1",
        "id": "Y7-bZgsNnr1d"
      },
      "execution_count": 106,
      "outputs": [
        {
          "output_type": "execute_result",
          "data": {
            "text/plain": [
              "array([[0.],\n",
              "       [0.],\n",
              "       [0.],\n",
              "       ...,\n",
              "       [0.],\n",
              "       [0.],\n",
              "       [0.]], dtype=float32)"
            ]
          },
          "metadata": {},
          "execution_count": 106
        }
      ],
      "id": "Y7-bZgsNnr1d"
    },
    {
      "cell_type": "markdown",
      "source": [
        "### sk-learn"
      ],
      "metadata": {
        "id": "q1iRDDtWnr1d"
      },
      "id": "q1iRDDtWnr1d"
    },
    {
      "cell_type": "code",
      "source": [
        "clf = MLPRegressor(hidden_layer_sizes = (4,4,4,4),\n",
        "                   activation='relu',\n",
        "                   solver='lbfgs',\n",
        "                   learning_rate='constant',\n",
        "                   learning_rate_init=0.1,\n",
        "                   alpha=0.0001,\n",
        "                   max_iter=10000000)\n",
        "clf.fit(input_train, output_train)"
      ],
      "metadata": {
        "id": "uMxr59yenr1e",
        "outputId": "9c802d70-ed0e-4118-dc9c-7f564d608dcd",
        "colab": {
          "base_uri": "https://localhost:8080/"
        }
      },
      "execution_count": 107,
      "outputs": [
        {
          "output_type": "execute_result",
          "data": {
            "text/plain": [
              "MLPRegressor(hidden_layer_sizes=(4, 4, 4, 4), learning_rate_init=0.1,\n",
              "             max_iter=10000000, solver='lbfgs')"
            ]
          },
          "metadata": {},
          "execution_count": 107
        }
      ],
      "id": "uMxr59yenr1e"
    },
    {
      "cell_type": "code",
      "source": [
        "clf.score(input_train, output_train)\n"
      ],
      "metadata": {
        "id": "OJpmGECinr1e",
        "outputId": "398dd521-9049-49ac-8f02-b64da5d0c996",
        "colab": {
          "base_uri": "https://localhost:8080/"
        }
      },
      "execution_count": 108,
      "outputs": [
        {
          "output_type": "execute_result",
          "data": {
            "text/plain": [
              "0.8086752877030592"
            ]
          },
          "metadata": {},
          "execution_count": 108
        }
      ],
      "id": "OJpmGECinr1e"
    },
    {
      "cell_type": "code",
      "source": [
        "clf.score(input_test, output_test)"
      ],
      "metadata": {
        "id": "JfibqJs-nr1e",
        "outputId": "9aea277f-ca0c-4f56-b1f4-5053763f1e04",
        "colab": {
          "base_uri": "https://localhost:8080/"
        }
      },
      "execution_count": 109,
      "outputs": [
        {
          "output_type": "execute_result",
          "data": {
            "text/plain": [
              "0.7738306300808557"
            ]
          },
          "metadata": {},
          "execution_count": 109
        }
      ],
      "id": "JfibqJs-nr1e"
    }
  ],
  "metadata": {
    "kernelspec": {
      "display_name": "Python 3 (ipykernel)",
      "language": "python",
      "name": "python3"
    },
    "language_info": {
      "codemirror_mode": {
        "name": "ipython",
        "version": 3
      },
      "file_extension": ".py",
      "mimetype": "text/x-python",
      "name": "python",
      "nbconvert_exporter": "python",
      "pygments_lexer": "ipython3",
      "version": "3.9.12"
    },
    "colab": {
      "provenance": [],
      "toc_visible": true
    },
    "accelerator": "GPU",
    "gpuClass": "standard"
  },
  "nbformat": 4,
  "nbformat_minor": 5
}